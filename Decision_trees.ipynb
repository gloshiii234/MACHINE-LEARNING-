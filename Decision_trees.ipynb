{
 "cells": [
  {
   "attachments": {},
   "cell_type": "markdown",
   "metadata": {},
   "source": [
    "###DECISION TREES"
   ]
  },
  {
   "attachments": {},
   "cell_type": "markdown",
   "metadata": {},
   "source": [
    "-The basic intuition behind a decisiontree is to map out all possible paths in the form of a tree."
   ]
  },
  {
   "attachments": {},
   "cell_type": "markdown",
   "metadata": {},
   "source": [
    "-It involves the following steps;\n",
    "1.Choose an attribute from ur dataset\n",
    "2.Calculate the significance of the attribute in splitting the data\n",
    "3.Split the data based on the value of the bset attribute\n",
    "4.Go back to step 1"
   ]
  },
  {
   "attachments": {},
   "cell_type": "markdown",
   "metadata": {},
   "source": [
    "-Decision trees discuss entropy which is a measure of randomness or uncertainityas calculated by libraries.\n",
    "-Entropy in a node is the amount of information disorder calculated in each node.\n",
    "-The entopy is usually calculated before splitting the data.\n",
    "-The lower the entropy, the less uniform the distribution and thus the purer the node.\n"
   ]
  },
  {
   "attachments": {},
   "cell_type": "markdown",
   "metadata": {},
   "source": [
    "-We also discuss Information gain (IG) in decision trees which increasesthe level of certainity of our data after splitting.\n",
    "IG = (E(before)-weighted entrophy after split)\n",
    "-The higher the IG;the better."
   ]
  },
  {
   "attachments": {},
   "cell_type": "markdown",
   "metadata": {},
   "source": [
    "##Case scenario of decision trees\n",
    "1. Let's say a dataset containing age,sex,cholestrol and all these are used to detect whether a patient should use Drug A and Drug B.\n",
    "2. We check each of them to determine their entropies, ie to detrmine how best each of them can be used to best detect either A or B.\n",
    "3. Lower entropy means a certain node can be best used in conclusions, thus can be used as standard for the rest."
   ]
  }
 ],
 "metadata": {
  "language_info": {
   "name": "python"
  },
  "orig_nbformat": 4
 },
 "nbformat": 4,
 "nbformat_minor": 2
}
