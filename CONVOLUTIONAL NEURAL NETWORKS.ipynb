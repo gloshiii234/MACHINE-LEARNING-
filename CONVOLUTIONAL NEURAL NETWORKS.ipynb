{
 "cells": [
  {
   "attachments": {},
   "cell_type": "markdown",
   "id": "9618b609",
   "metadata": {},
   "source": [
    "#Convolutional Neural Networks(CNN)\n",
    "\n",
    "Aconvolutional operation forms the basis of any CNN, and they were designed for image analysis.\n",
    "-How a CNN identifies the image of a bird!!!\n",
    "-The layer uses a matrix filter(converts image into 1's and 0's) and performs convolution operation to detect patterns in the image.\n",
    "\n",
    "There are multiple hidden layers like Convolution layer, ReLU lyer,Pooling layer(uses multiple features to detect corners,edges,feathers,beak) etc that perform feature extraction from the image.\n",
    "\n",
    "-The output layer is a fully connected layer that identifies the object in the image.\n"
   ]
  },
  {
   "attachments": {},
   "cell_type": "markdown",
   "id": "33abf50f",
   "metadata": {},
   "source": [
    "CNN is a feed forward neural network that is generally used to analyze visual images by processing data with grid like topology.It is also known as a ConvNet.\n",
    "Example;\n",
    "2flower images(orchid/rose)>input layer>hiddenlayers>outputlayer>orchid/rose\n",
    "\n",
    "In CNN, every image is represented in the form of arrays of pixel values,the real image is converted into 1's and 0's where 1's represent black and 0's represent white background.\n"
   ]
  },
  {
   "attachments": {},
   "cell_type": "markdown",
   "id": "fa405e58",
   "metadata": {},
   "source": [
    "#Understanding how convolution operation using 2 matrices a and b\n",
    "\n",
    "a = [5,3,2,5,9,7]\n",
    "b = [1,2,3]\n",
    ">multiplying the two arrays(5,6,6)first truncate the remaining part of array a(5,9,7) sum is 17 .\n",
    ">move one digit over [3,2,5] and multiply this with b(3,4,15), sum is 22, this is done until all numbers are occupied.\n",
    "\n"
   ]
  },
  {
   "attachments": {},
   "cell_type": "markdown",
   "id": "279e15f1",
   "metadata": {},
   "source": [
    "LAYERS IN CONVOLUTIONAL NETWORK\n",
    "-1.Convolution layer>the central aspect of processsing images\n",
    "-2.ReLU Layer>(Rectified Linear Unit)\n",
    "-3.Pooling layer>pooling /reducing data together\n",
    "-4.Fully Connected Layer/output"
   ]
  },
  {
   "attachments": {},
   "cell_type": "markdown",
   "id": "22935c2b",
   "metadata": {},
   "source": [
    "1.Image is converted into 1's and 0's  and then a filter is used to produce a convolved feature with fewer matrices after multiplying and adding results.\n",
    "\n",
    "2.after the feature maps are extracted, the next step is to move them to a ReLU layer. Which performs element wise operation, it sets all negative pixels to zero, it introduces non-lnearity to the network and the output is a rectified feature map.\n",
    "\n",
    "3.The rectified feature map now goes through a pooling layer. Pooling is a down-sampling operation that redces the dimensionality of the feature map.\n",
    "\n",
    "4.Flattening-This is the process of converting all the resultant 2 dimensional arrays from pooled feature map into a single long continous linear vector.\n",
    "\n",
    "5.Fully connected layer- The flattened matrix from the pooling layer is fed as input tothe fully Connected Layer to classify the image.\n"
   ]
  }
 ],
 "metadata": {
  "kernelspec": {
   "display_name": "Python 3 (ipykernel)",
   "language": "python",
   "name": "python3"
  },
  "language_info": {
   "codemirror_mode": {
    "name": "ipython",
    "version": 3
   },
   "file_extension": ".py",
   "mimetype": "text/x-python",
   "name": "python",
   "nbconvert_exporter": "python",
   "pygments_lexer": "ipython3",
   "version": "3.9.13"
  }
 },
 "nbformat": 4,
 "nbformat_minor": 5
}
