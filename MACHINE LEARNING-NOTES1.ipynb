{
 "cells": [
  {
   "attachments": {},
   "cell_type": "markdown",
   "metadata": {},
   "source": [
    "MACHINE LEARNING COURSE-COURSERA\n",
    "\n",
    "-Machine learning is the subfield of computer science that gives computers the ability to learn without being explicitly programmed.\n",
    "\n",
    "APPLICATIONS OF MACHINE LEARNING\n",
    "1.Cyber security\n",
    "2.Health diagnosis\n",
    "3.Self driving cars to predict obstacles\n",
    "4.Weather forecasting\n",
    "5.Detection of default by banks before processing loan\n",
    "6.Reccomendations by youtube and netflix depending on what user usually watches\n",
    "7.Face recognition\n",
    "\n",
    ">Machine learning happens the same way a four year old learns objects in the community and what they do\n"
   ]
  },
  {
   "attachments": {},
   "cell_type": "markdown",
   "metadata": {},
   "source": [
    "ALGORITHMS FOR MACHINE LINEAR\n",
    "1.REGRESSION/ESTIMATION\n",
    "-often used in prediction of continous values eg prices of a house depending on its attributes like no of rooms, bathrooms,size.\n",
    "\n",
    "2.CLASSIFICATION\n",
    "-used in predicting item class/category of a case eg determining whether its a benign or malignant case\n",
    "\n",
    "3.CLUSTERING\n",
    "-It is used in determing the structure of data, summarization forexample identifying patients with a similar disease\n",
    "\n",
    "4.ASSOCIATIONS\n",
    "-used in associating frequently co-occuring items/events.\n"
   ]
  },
  {
   "attachments": {},
   "cell_type": "markdown",
   "metadata": {},
   "source": [
    "POSSIBLE ML PROJECTS\n",
    "1.Cancer detection\n",
    "2.Prediction of economic trends\n",
    "3.Prediction of customer churns\n",
    "4.Reccomendation of engines depending on Co2 emissions\n"
   ]
  },
  {
   "attachments": {},
   "cell_type": "markdown",
   "metadata": {},
   "source": [
    "PYTHON FOR MACHINE LEARNING\n",
    "-The following python libraries are used in ML;\n",
    "1.Numerical python(NumPy)\n",
    "2.Pandas\n",
    "3.Scientific python(SciPy)\n",
    "4.Matplotlib\n",
    "5.Scikitlearn\n",
    "*scikitlearn allows machine learning in the following processes;DATAPREPROCESSING>TRAIN/TESTSPLIT>ALGORITHMSETUP>MODELFITTING>PREDICTION>EVALUATION>MODELEXPORT\n",
    "*eg, from sklearn import preprocessing\n",
    "     x=preprocessing.StandardScaler().fit(x).transform(x)"
   ]
  },
  {
   "attachments": {},
   "cell_type": "markdown",
   "metadata": {},
   "source": [
    "SUPERVISED LEARNING ALGORITHMS\n",
    "-These algorithms involve supervision/monitoring during the training to determine accuracy of training\n",
    "-The models use labelled data\n",
    "-The models are divided into classification and regression algorithms.\n",
    "-The rows represent the observation, the columns represent the features,col-headings show attributes and values are the features.\n",
    "-The data is both categorical and numerical.\n",
    "  "
   ]
  },
  {
   "attachments": {},
   "cell_type": "markdown",
   "metadata": {},
   "source": [
    "UNSUPERVISED LEARNING\n",
    "-These models are not supervised and they work on their own to discover new information.\n",
    "-The models are divided into Dimension reduction,density estimation,market basket analysis and clustering.\n",
    "-The models use unlabelled data.\n",
    "**Clustering is grouping of data points or objects that are somehow similar by discovering structure,summarization,anomaly detection.\n"
   ]
  },
  {
   "attachments": {},
   "cell_type": "markdown",
   "metadata": {},
   "source": [
    "INTRODUCTION TO REGRESSION\n",
    "-Regression is the process of predicting a continous value accurately.\n",
    "-Regression models involve dependable variables(y-axis-final goal-can be measured) and independent variables(x-axis-cause)\n",
    "\n",
    "*Regression is divided into two;\n",
    "1.SIMPLE REGRESSION(LINEAR/NON-LINEAR):\n",
    "-It involves one variable(\"one dependent variable which changes as result of one independable variable, eg determing the emisssions of an engine using engine size.)\n",
    "\n",
    "2.MULTIPLE REGRESSIO(LINEAR/NON-LINEAR)\n",
    "-It involves one dependant variable being affected by several independent variables(eg emissions of Co2 being determined by engine sixe, type of fuel)\n"
   ]
  },
  {
   "attachments": {},
   "cell_type": "markdown",
   "metadata": {},
   "source": [
    "EXAMPLE OF PREDICTION USING REGRESSION\n",
    "-In the example used, the model was to predict emission of CO2 from an engine of 5.4\n",
    "*Drawing a line on the graph showed an answer of 250\n",
    "-However this answer is not correct\n",
    "*Determining CO2prediction; y = (0o) + (01xX1)\n",
    "where 0o is the intercept and 01 is the slope(gradient) and X represents value of engine size for which y is being determined.\n",
    "*formula for determing 0o and 01 exist\n",
    "using y = (0o) + (01xX1), gives a different answer. This shows that we have an error.\n",
    "\n",
    "Error = Actual - Predicted\n",
    "*Evaluation of errors can be done using:\n",
    "1.Mean absolute error-MAE\n",
    "2.Mean squared error-MSE\n",
    "3.Root mean squared error-RMSE\n",
    "4.Relative absolute error-RAE\n",
    "5.Relative squared error-RSE\n",
    "6.R(2) = 1-RSE\n"
   ]
  },
  {
   "attachments": {},
   "cell_type": "markdown",
   "metadata": {},
   "source": [
    "MODEL EVALUATION APPROACHES\n",
    "-These are divided into train and test on the same dataset and train and test split.\n",
    "1.Train and test on same dataset involves using one dataset to train the model and selecting a portion of that same dataset to test the model. The actual output is known and thus the model is tested with know of output value.\n",
    "-These models have high training accuracy but low out of sample accuracy.\n",
    "*High training accuracy refers to ability to make correct pedictions from trained dataset but low out of sample accuracy implies that the model will not be able to predict correctly data not used to train it, thus it will over fit.\n",
    "\n",
    "2.Train/Test split involves separation of dataset into training and testing sets differently. Thus the data used to detect prediction of the model is completely new to the model. Here, there is high out of sample accuracy which is best considered when training models.\n",
    "\n",
    "*K-FOLD CROSS VALIDATION\n",
    "It involves splitting the dataset into different k times and using one part fpr training and the other for testing for each k times and then average accuracy is calculated by adding all k accurancies."
   ]
  }
 ],
 "metadata": {
  "language_info": {
   "name": "python"
  },
  "orig_nbformat": 4
 },
 "nbformat": 4,
 "nbformat_minor": 2
}
